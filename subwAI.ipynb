{
 "cells": [
  {
   "cell_type": "code",
   "execution_count": 1,
   "id": "a33775d6",
   "metadata": {},
   "outputs": [],
   "source": [
    "import pandas as pd\n",
    "import numpy as np\n",
    "import networkx as nx\n",
    "import matplotlib.pyplot as plt\n",
    "import itertools\n",
    "import json\n",
    "import re\n",
    "import warnings\n",
    "from IPython.display import clear_output\n",
    "import string"
   ]
  },
  {
   "cell_type": "code",
   "execution_count": 2,
   "id": "109900c9",
   "metadata": {},
   "outputs": [],
   "source": [
    "def iterator(L):\n",
    "\ta, b = itertools.tee(L)\n",
    "\tnext(b, None)\n",
    "\treturn list(zip(a,b))"
   ]
  },
  {
   "cell_type": "code",
   "execution_count": 3,
   "id": "0f150b7b",
   "metadata": {},
   "outputs": [],
   "source": [
    "f = open(\"subwaygraph.json\",'r')\n",
    "G = nx.node_link_graph(json.load(f), directed=False, multigraph=True, edges='edges')"
   ]
  },
  {
   "cell_type": "code",
   "execution_count": 4,
   "id": "d9db867f",
   "metadata": {},
   "outputs": [],
   "source": [
    "stations = pd.read_csv(\"MTA_Subway_Stations.csv\")\n",
    "\n",
    "stations = stations[['GTFS Stop ID','Complex ID','Stop Name','Daytime Routes']]\n",
    "stations.set_index('GTFS Stop ID',inplace=True)\n",
    "stations.rename_axis(\"id\", axis=0, inplace=True)\n",
    "stations = stations[stations['Daytime Routes'] != 'SIR']\n",
    "stations.rename({\"Daytime Routes\":\"lines\", \"Stop Name\": \"name\"}, axis='columns', inplace=True)\n",
    "stations.sort_index(inplace=True)\n",
    "stations['lines'] = [l.split() for l in stations['lines']]\n"
   ]
  },
  {
   "cell_type": "code",
   "execution_count": 5,
   "id": "c35c47bf",
   "metadata": {},
   "outputs": [],
   "source": [
    "\n",
    "\t\t\n",
    "class Subway:\n",
    "\tdef __init__(this, G, station_names=pd.DataFrame):\n",
    "\t\tthis.G = G\n",
    "\t\tthis.stations = station_names\n",
    "\t\t\n",
    "\t\tthis.route_count = 0\n",
    "\t\tthis.routes = {}\n",
    "\n",
    "\t\t\n",
    "\tdef find_stop(this, name, line_spec=None):\n",
    "\t\tstations = this.stations\n",
    "\t\topts = stations[stations.name.str.contains(name, case=False)]\n",
    "\t\tif len(opts) == 0: \n",
    "\t\t\traise RuntimeError(\"No stations found\")\n",
    "\t\telif len(opts) == 1:\n",
    "\t\t\treturn list(opts.index)\n",
    "\t\telif len(opts)>1:\n",
    "\t\t\tif line_spec:\n",
    "\t\t\t\tline_spec = str(line_spec)\n",
    "\t\t\t\tstopmatch = opts[opts.lines.map(lambda x: line_spec.capitalize() in x)]\n",
    "\t\t\t\treturn list(stopmatch.index)\n",
    "\t\t\telse:\n",
    "\t\t\t\tprint(\"Multiple stations with name {} found. Select subway line from below\".format(name))\n",
    "\t\t\t\tprint(opts.head())\n",
    "\t\t\t\tline = str(input(\"line\"))\n",
    "\t\t\t\tif line == 'default': start_id = opts[1]\n",
    "\t\t\t\telse:\n",
    "\t\t\t\t\tstart_id = opts[opts.lines.map(lambda x: line.capitalize() in x)]\n",
    "\t\t\t\t\tif len(start_id) == 0: \n",
    "\t\t\t\t\t\twarnings.warn(\"Line not found, defaulting to first station\")\n",
    "\t\t\t\t\t\treturn list(opts.index)\n",
    "\t\t\t\t\treturn list(start_id.index)\n",
    "\t\telse: raise RuntimeError(\"how did you manage to mess this up either it exists or it doesnt\")\n",
    "\t\t\t\t\n",
    "\tdef new_route(this, start, stop, start_line=None, stop_line=None, id=False):\n",
    "\t\tif not id:\n",
    "\t\t\tstart = this.find_stop(start, line_spec=start_line)[0]\n",
    "\t\t\tstop = this.find_stop(stop, line_spec=stop_line)[0]\n",
    "\t\t\tclear_output()\n",
    "\t\t\t\n",
    "\t\tthis.route_count += 1\n",
    "\t\trname = \"route{}\".format(this.route_count)\n",
    "\t\tthis.routes[rname] = (start, stop)\n",
    "\n",
    "\tdef new_routes(this, lst, id=False):\n",
    "\t\tfor i,j in lst:\n",
    "\t\t\tthis.new_route(i,j, id=id)\n",
    "\n",
    "\tdef remove_route(this, route):\n",
    "\t\ttry: del this.routes[route]\n",
    "\t\texcept KeyError: pass\n",
    "\n",
    "\n",
    "\tdef clear_routes(this):\n",
    "\t\tthis.routes = 0\n",
    "\t\tthis.route_count = 0"
   ]
  },
  {
   "cell_type": "code",
   "execution_count": 6,
   "id": "a9544f4a",
   "metadata": {},
   "outputs": [
    {
     "data": {
      "text/plain": [
       "[['New Lots Av', 'Jackson Av'], ['East 105 St', 'Cypress Hills']]"
      ]
     },
     "execution_count": 6,
     "metadata": {},
     "output_type": "execute_result"
    }
   ],
   "source": [
    "rng = np.random.default_rng(112)\n",
    "stop_pairs_id = rng.choice(list(G.nodes()),size=(2,2), replace=False).tolist()\n",
    "stop_pairs_name = [[stations.loc[i]['name'] for i in k] for k in stop_pairs_id]\n",
    "stop_pairs_name"
   ]
  },
  {
   "cell_type": "code",
   "execution_count": 7,
   "id": "cd56bf94",
   "metadata": {},
   "outputs": [],
   "source": [
    "nyc = Subway(G, stations)"
   ]
  },
  {
   "cell_type": "code",
   "execution_count": 8,
   "id": "cdbf3e60",
   "metadata": {},
   "outputs": [],
   "source": [
    "nyc.new_route(\"fulton\", \"broadway j\", \"z\", \"z\")"
   ]
  },
  {
   "cell_type": "code",
   "execution_count": 9,
   "id": "eacb3e07",
   "metadata": {},
   "outputs": [
    {
     "data": {
      "text/plain": [
       "{'route1': ('M22', 'J27')}"
      ]
     },
     "execution_count": 9,
     "metadata": {},
     "output_type": "execute_result"
    }
   ],
   "source": [
    "nyc.routes"
   ]
  },
  {
   "cell_type": "code",
   "execution_count": 10,
   "id": "cc52cc05",
   "metadata": {},
   "outputs": [
    {
     "ename": "NameError",
     "evalue": "name 'path' is not defined",
     "output_type": "error",
     "traceback": [
      "\u001b[31m---------------------------------------------------------------------------\u001b[39m",
      "\u001b[31mNameError\u001b[39m                                 Traceback (most recent call last)",
      "\u001b[36mCell\u001b[39m\u001b[36m \u001b[39m\u001b[32mIn[10]\u001b[39m\u001b[32m, line 1\u001b[39m\n\u001b[32m----> \u001b[39m\u001b[32m1\u001b[39m \u001b[43mpath\u001b[49m\n",
      "\u001b[31mNameError\u001b[39m: name 'path' is not defined"
     ]
    }
   ],
   "source": [
    "path"
   ]
  },
  {
   "cell_type": "code",
   "execution_count": null,
   "id": "40d9b057",
   "metadata": {},
   "outputs": [
    {
     "data": {
      "text/plain": [
       "[['Fulton St', ['Transfer']],\n",
       " ['Fulton St', ['A', 'C']],\n",
       " ['High St', ['A', 'C']],\n",
       " ['Jay St-MetroTech', ['A', 'C']],\n",
       " ['Hoyt-Schermerhorn Sts', ['A', 'C']],\n",
       " ['Nostrand Av', ['A', 'C']],\n",
       " ['Utica Av', ['A', 'C']],\n",
       " ['Broadway Junction', ['Transfer']]]"
      ]
     },
     "execution_count": 302,
     "metadata": {},
     "output_type": "execute_result"
    }
   ],
   "source": [
    "path = nx.dijkstra_path(G, nyc.routes['route1'][0], nyc.routes['route1'][1], weight='time')\n",
    "[[stations.loc[i]['name'], G.edges[i,j,0]['lines']] for i,j in iterator(path)]"
   ]
  }
 ],
 "metadata": {
  "kernelspec": {
   "display_name": "Python 3",
   "language": "python",
   "name": "python3"
  },
  "language_info": {
   "codemirror_mode": {
    "name": "ipython",
    "version": 3
   },
   "file_extension": ".py",
   "mimetype": "text/x-python",
   "name": "python",
   "nbconvert_exporter": "python",
   "pygments_lexer": "ipython3",
   "version": "3.13.1"
  }
 },
 "nbformat": 4,
 "nbformat_minor": 5
}
