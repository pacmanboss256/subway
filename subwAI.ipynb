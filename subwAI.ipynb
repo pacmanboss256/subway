{
 "cells": [
  {
   "cell_type": "markdown",
   "id": "5d0f5e8d",
   "metadata": {},
   "source": [
    "### Assuming undirected, daytime trains including <6> and <7> but not &lt;F&gt;, no skip-stop or peak direction only routes."
   ]
  },
  {
   "cell_type": "code",
   "execution_count": 232,
   "id": "a33775d6",
   "metadata": {},
   "outputs": [],
   "source": [
    "import pandas as pd\n",
    "import numpy as np\n",
    "import networkx as nx\n",
    "import matplotlib.pyplot as plt\n",
    "import json\n",
    "import re\n",
    "import warnings\n",
    "from IPython.display import clear_output\n",
    "import string\n",
    "from pandas import DataFrame\n",
    "import types\n",
    "from itertools import combinations\n",
    "from typing import Any, Tuple\n",
    "import typing_extensions"
   ]
  },
  {
   "cell_type": "code",
   "execution_count": 233,
   "id": "109900c9",
   "metadata": {},
   "outputs": [],
   "source": [
    "import itertools\n",
    "def iterator(L):\n",
    "\ta, b = itertools.tee(L)\n",
    "\tnext(b, None)\n",
    "\treturn list(zip(a,b))"
   ]
  },
  {
   "cell_type": "code",
   "execution_count": 234,
   "id": "0f150b7b",
   "metadata": {},
   "outputs": [],
   "source": [
    "f = open(\"subwaygraph8to8.json\",'r')\n",
    "G = nx.node_link_graph(json.load(f), directed=False, multigraph=True, edges='edges')"
   ]
  },
  {
   "cell_type": "code",
   "execution_count": 235,
   "id": "d9db867f",
   "metadata": {},
   "outputs": [],
   "source": [
    "stations = pd.read_csv(\"MTA_Subway_Stations.csv\")\n",
    "\n",
    "stations = stations[['GTFS Stop ID','Complex ID','Stop Name','Daytime Routes']]\n",
    "stations.set_index('GTFS Stop ID',inplace=True)\n",
    "stations.rename_axis(\"id\", axis=0, inplace=True)\n",
    "stations = stations[stations['Daytime Routes'] != 'SIR']\n",
    "stations.rename({\"Daytime Routes\":\"lines\", \"Stop Name\": \"name\"}, axis='columns', inplace=True)\n",
    "stations.sort_index(inplace=True)\n",
    "stations['lines'] = [l.split() for l in stations['lines']]\n"
   ]
  },
  {
   "cell_type": "code",
   "execution_count": 236,
   "id": "19bb0614",
   "metadata": {
    "notebookRunGroups": {
     "groupValue": "2"
    }
   },
   "outputs": [],
   "source": [
    "class Pathfinder:\n",
    "\tdef __init__(this, start_line):\n",
    "\t\tthis.start_line = start_line\n",
    "     \n",
    "\tdef dijkstra(this, G: nx.Graph, start, end):\n",
    "\t\tcurrent_line = this.start_line\n",
    "\t\tprev_line = current_line\n",
    "\t\tnodes = list(G.nodes)\n",
    "\t\tinf = float('inf')\n",
    "\t\tdist_from_start = {n: inf for n in nodes}\n",
    "\t\tdist_from_start[start] = 0\n",
    "\t\tpredecessors = {n: None for n in nodes}\n",
    "\t\tbest_line = {n: None for n in nodes}\n",
    "\n",
    "\t\twhile len(nodes) > 0:\n",
    "\t\t\tcandidates = {n: dist_from_start[n] for n in nodes}\n",
    "\t\t\tclosest = min(candidates, key = candidates.get)  # type: ignore\n",
    "\t\t\tfor n in G.neighbors(closest):\n",
    "\t\t\t\twait_time = 0\n",
    "\t\t\t\ttry: \n",
    "\t\t\t\t\tdist_to_n = G.edges[n, closest, 0]['travel_time'][prev_line]\n",
    "\t\t\t\t\td = dist_from_start[closest] + dist_to_n\n",
    "\t\t\t\t\tif dist_from_start[n] > d:\n",
    "\t\t\t\t\t\tdist_from_start[n] = d\n",
    "\t\t\t\t\t\tpredecessors[n] = closest\n",
    "\t\t\t\t\t\tbest_line[n] = current_line\n",
    "\t\t\t\t\t\tcontinue\n",
    "\t\t\t\texcept KeyError:\n",
    "\t\t\t\t\ttransfers = set(G.nodes[closest]['lines']).intersection(set(G.nodes[n]['lines']))\n",
    "\t\t\t\t\tnewlines = {k: G.nodes[closest]['wait_time'][k] for k in transfers}\n",
    "\t\t\t\t\t\n",
    "\t\t\t\t\ttry:\n",
    "\t\t\t\t\t\tnew_line = min(newlines, key = newlines.get)\n",
    "\t\t\t\t\t\twait_time = newlines[new_line]\n",
    "\t\t\t\t\t\tprev_line = current_line\n",
    "\t\t\t\t\t\tcurrent_line = new_line\n",
    "\t\t\t\t\texcept ValueError:\n",
    "\t\t\t\t\t\tnext_trains = G.nodes[n]['wait_time']\n",
    "\t\t\t\t\t\tnew_line = min(next_trains, key=next_trains.get)\n",
    "\t\t\t\t\t\tprev_line = current_line\n",
    "\t\t\t\t\t\tcurrent_line = new_line\n",
    "\t\t\t\t\t\twait_time = next_trains[current_line]\n",
    "\t\t\t\t\t\t\n",
    "\t\t\t\t\tfinally: \n",
    "\t\t\t\t\t\td = dist_from_start[closest] + dist_to_n + wait_time\n",
    "\t\t\t\t\t\tif dist_from_start[n] > d:\n",
    "\t\t\t\t\t\t\tdist_from_start[n] = d\n",
    "\t\t\t\t\t\t\tpredecessors[n] = closest\n",
    "\t\t\t\t\t\t\tbest_line[n] = current_line\n",
    "\t\t\t\t\t\t\t\n",
    "\t\t\tnodes.remove(closest)\n",
    "\t\treturn (dist_from_start, predecessors, best_line)\n",
    "\n",
    "\n",
    "\tdef shortestPath(this, G: nx.Graph, start, end):\n",
    "\n",
    "\t\tdistances, predecessors, lines = this.dijkstra(G, start, end)\n",
    "\n",
    "\t\tif predecessors[end] is None and start != end:\n",
    "\t\t\treturn [], distances[end]\n",
    "\n",
    "\t\tpath = [end]\n",
    "\t\tbest_line = [lines[end]]\n",
    "\t\twhile path[-1] != start:\n",
    "\t\t\tpath.append(predecessors[path[-1]])\n",
    "\t\t\tbest_line.append(lines[path[-1]])\n",
    "\t\tpath.reverse()\n",
    "\t\tbest_line.reverse()\n",
    "\n",
    "\t\treturn path, distances[end], best_line\n",
    "\n"
   ]
  },
  {
   "cell_type": "markdown",
   "id": "e5794a22",
   "metadata": {},
   "source": []
  },
  {
   "cell_type": "code",
   "execution_count": 237,
   "id": "c35c47bf",
   "metadata": {},
   "outputs": [],
   "source": [
    "class Subway:\n",
    "\n",
    "    def __init__(this, G, station_names: pd.DataFrame):\n",
    "        \"\"\"Add a new subway system\"\"\"\n",
    "        this.G = G\n",
    "        this.stations = station_names\n",
    "\n",
    "        ## route variables\n",
    "        this.routes = {}\n",
    "        this.route_count = 0\n",
    "    \n",
    "        \n",
    "\n",
    "    def find_stop(this, name, line_spec=None):\n",
    "        '''Helper function to find all stops from a substring of the station name'''\n",
    "        stations: DataFrame = this.stations\n",
    "        opts = stations[stations.name.str.contains(name, case=False)]\n",
    "        if len(opts) == 0: \n",
    "            raise RuntimeError(\"No stations found\")\n",
    "        elif len(opts) == 1:\n",
    "            return list(opts.index)[0]\n",
    "        elif len(opts)>1:\n",
    "            if line_spec:\n",
    "                line_spec = str(line_spec)\n",
    "                stopmatch = opts[opts.lines.map(lambda x: line_spec.capitalize() in x)]\n",
    "                return list(stopmatch.index)[0]\n",
    "            else:\n",
    "                print(\"Multiple stations with name {} found. Select subway line from below\".format(name))\n",
    "                print(opts.head())\n",
    "                line = str(input(\"line\"))\n",
    "                if line == 'default': start_id = opts[1]\n",
    "                else:\n",
    "                    start_id = opts[opts.lines.map(lambda x: line.capitalize() in x)]\n",
    "                    if len(start_id) == 0: \n",
    "                        warnings.warn(\"Line not found, defaulting to first station\")\n",
    "                        return list(opts.index)[0]\n",
    "                    return list(start_id.index)[0]\n",
    "        else: raise RuntimeError(\"how did you manage to mess this up either it exists or it doesnt\")\n",
    "                \n",
    "    def new_route(this, start, stop, start_line=None, stop_line=None, route_name = None, id=False):\n",
    "        \"\"\"Adds a route to the route dictionary.\n",
    "\n",
    "        `start_line` and `stop_line` parameters specify start/stop lines for names that are shared between multiple stops.\\n\n",
    "        `id` parameter takes 3 character GTFS stop IDs, which are different from the MTA Station IDs.\n",
    "        \"\"\"\n",
    "        if not id:\n",
    "            start = this.find_stop(start, line_spec=start_line)\n",
    "            stop = this.find_stop(stop, line_spec=stop_line)\n",
    "            clear_output()\n",
    "            \n",
    "        this.route_count += 1\n",
    "        if route_name: rname = route_name \n",
    "        else: rname = \"route{}\".format(this.route_count)\n",
    "        this.routes[rname] = (start, stop)\n",
    "\n",
    "    def new_routes(this, lst, id=False):\n",
    "        \"\"\"Bulk add routes from 2 tuples of either stop names or GTFS IDs\"\"\"\n",
    "        for i,j in lst:\n",
    "            this.new_route(i,j, id=id)\n",
    "\n",
    "    def remove_route(this, route_name: str):\n",
    "        '''Remove route by name'''\n",
    "        try: del this.routes[route_name]\n",
    "        except KeyError: pass\n",
    "        \n",
    "    def remove_routes(this, route_names: list):\n",
    "        '''Remove routes from list of names'''\n",
    "        for k in route_names:\n",
    "            this.remove_route(k)\n",
    "\n",
    "    def clear_routes(this):\n",
    "        '''Remove all routes'''\n",
    "        this.routes = {}\n",
    "        this.route_count = 0\n",
    "\n",
    "    \n",
    "    ## Pathfinding\n",
    "\n",
    "\n",
    "    def transfer_path(this, route):\n",
    "        \"\"\"Modified version of dijkstra path\"\"\"\n",
    "        source = this.routes[route][0]\n",
    "        target = this.routes[route][1]\n",
    "        path = Pathfinder(G.nodes[source]['lines'][0])\n",
    "        path, time, lines = path.shortestPath(G, source, target)\n",
    "        c = set(combinations(path, 2))\n",
    "        paths = c - set(iterator(path))  \n",
    "        for e in paths:\n",
    "            try: \n",
    "                print(e, G.edges[e[0], e[1], 0])\n",
    "            except KeyError: continue\n",
    "        pathnames = [[[this.stations.loc[i]['name'],this.stations.loc[j]['name']], list(this.G.edges[i,j,0]['travel_time'].keys())] for i,j in iterator(path)]\n",
    "        mins = np.ceil(np.ceil(time)/60) # type: ignore\n",
    "        return mins, pathnames, lines\n"
   ]
  },
  {
   "cell_type": "code",
   "execution_count": 238,
   "id": "a9544f4a",
   "metadata": {},
   "outputs": [
    {
     "data": {
      "text/plain": [
       "[['614', 'F03'], ['109', 'G13'], ['J22', '726']]"
      ]
     },
     "execution_count": 238,
     "metadata": {},
     "output_type": "execute_result"
    }
   ],
   "source": [
    "rng = np.random.default_rng(5368)\n",
    "stop_pairs_id = rng.choice(list(G.nodes()),size=(3,2), replace=False).tolist()\n",
    "stop_pairs_name = [[stations.loc[i]['name'] for i in k] for k in stop_pairs_id]\n",
    "stop_pairs_id\n",
    "stop_rev = [k[::-1] for k in stop_pairs_id]\n",
    "stop_rev"
   ]
  },
  {
   "cell_type": "code",
   "execution_count": 239,
   "id": "cd56bf94",
   "metadata": {},
   "outputs": [
    {
     "data": {
      "text/plain": [
       "{'route1': ('614', 'F03'), 'route2': ('109', 'G13'), 'route3': ('J22', '726')}"
      ]
     },
     "execution_count": 239,
     "metadata": {},
     "output_type": "execute_result"
    }
   ],
   "source": [
    "nyc = Subway(G, stations)\n",
    "nyc.new_routes(stop_rev, id=True)\n",
    "nyc.routes"
   ]
  },
  {
   "cell_type": "code",
   "execution_count": 240,
   "id": "448bed02",
   "metadata": {},
   "outputs": [
    {
     "name": "stdout",
     "output_type": "stream",
     "text": [
      "('626', '629') {'travel_time': {'5': 232.0, '4': 233.0}}\n",
      "('F06', 'F05') {'travel_time': {'E': 120.0, 'F': 120.0}}\n"
     ]
    },
    {
     "data": {
      "text/plain": [
       "[None,\n",
       " '6',\n",
       " '6',\n",
       " '6',\n",
       " '6',\n",
       " '6',\n",
       " '6',\n",
       " '6',\n",
       " '6',\n",
       " '6',\n",
       " '6',\n",
       " 'N',\n",
       " 'R',\n",
       " 'E',\n",
       " 'E',\n",
       " 'E',\n",
       " 'E',\n",
       " 'E',\n",
       " 'F',\n",
       " 'F']"
      ]
     },
     "execution_count": 240,
     "metadata": {},
     "output_type": "execute_result"
    }
   ],
   "source": [
    "for k in nyc.routes:\n",
    "\ttime, rte, lines = nyc.transfer_path(k)\n",
    "\tbreak\n",
    "lines\n",
    "## don't transfer to the E, figure out how to work around this. \n",
    "# should go from lex 63 to lex 59 according to the MTA\n",
    "\n",
    "# 3rd one is a bit wonky but mta predicts 57 with small delay, likely due to the extra transfer from B/D to M"
   ]
  }
 ],
 "metadata": {
  "kernelspec": {
   "display_name": "Python 3",
   "language": "python",
   "name": "python3"
  },
  "language_info": {
   "codemirror_mode": {
    "name": "ipython",
    "version": 3
   },
   "file_extension": ".py",
   "mimetype": "text/x-python",
   "name": "python",
   "nbconvert_exporter": "python",
   "pygments_lexer": "ipython3",
   "version": "3.13.1"
  }
 },
 "nbformat": 4,
 "nbformat_minor": 5
}
